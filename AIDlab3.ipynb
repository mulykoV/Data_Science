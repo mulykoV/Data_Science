{
 "cells": [
  {
   "cell_type": "code",
   "execution_count": 22,
   "metadata": {},
   "outputs": [
    {
     "ename": "OSError",
     "evalue": "[WinError 123] Синтаксическая ошибка в имени файла, имени папки или метке тома: '\"D:\\\\Learning\\\\Інтелектуальний аналіз даних\\\\Data_Science\\\\DataSet\\\\archive\\\\train\\\\iris\"'",
     "output_type": "error",
     "traceback": [
      "\u001b[1;31m---------------------------------------------------------------------------\u001b[0m",
      "\u001b[1;31mOSError\u001b[0m                                   Traceback (most recent call last)",
      "Cell \u001b[1;32mIn[22], line 32\u001b[0m\n\u001b[0;32m     30\u001b[0m \u001b[38;5;66;03m# Створюємо набір даних для зображень\u001b[39;00m\n\u001b[0;32m     31\u001b[0m image_folder \u001b[38;5;241m=\u001b[39m \u001b[38;5;124mr\u001b[39m\u001b[38;5;124m'\u001b[39m\u001b[38;5;124m\"\u001b[39m\u001b[38;5;124mD:\u001b[39m\u001b[38;5;124m\\\u001b[39m\u001b[38;5;124mLearning\u001b[39m\u001b[38;5;124m\\\u001b[39m\u001b[38;5;124mІнтелектуальний аналіз даних\u001b[39m\u001b[38;5;124m\\\u001b[39m\u001b[38;5;124mData_Science\u001b[39m\u001b[38;5;124m\\\u001b[39m\u001b[38;5;124mDataSet\u001b[39m\u001b[38;5;124m\\\u001b[39m\u001b[38;5;124marchive\u001b[39m\u001b[38;5;124m\\\u001b[39m\u001b[38;5;124mtrain\u001b[39m\u001b[38;5;124m\\\u001b[39m\u001b[38;5;124miris\u001b[39m\u001b[38;5;124m\"\u001b[39m\u001b[38;5;124m'\u001b[39m  \n\u001b[1;32m---> 32\u001b[0m df \u001b[38;5;241m=\u001b[39m \u001b[43mget_image_data\u001b[49m\u001b[43m(\u001b[49m\u001b[43mimage_folder\u001b[49m\u001b[43m)\u001b[49m\n\u001b[0;32m     34\u001b[0m \u001b[38;5;66;03m# Виводимо перші кілька рядків датасету\u001b[39;00m\n\u001b[0;32m     35\u001b[0m \u001b[38;5;28mprint\u001b[39m(df\u001b[38;5;241m.\u001b[39mhead())\n",
      "Cell \u001b[1;32mIn[22], line 14\u001b[0m, in \u001b[0;36mget_image_data\u001b[1;34m(image_folder)\u001b[0m\n\u001b[0;32m     11\u001b[0m \u001b[38;5;28;01mdef\u001b[39;00m \u001b[38;5;21mget_image_data\u001b[39m(image_folder):\n\u001b[0;32m     12\u001b[0m     data \u001b[38;5;241m=\u001b[39m {\u001b[38;5;124m'\u001b[39m\u001b[38;5;124mWidth\u001b[39m\u001b[38;5;124m'\u001b[39m: [], \u001b[38;5;124m'\u001b[39m\u001b[38;5;124mHeight\u001b[39m\u001b[38;5;124m'\u001b[39m: [], \u001b[38;5;124m'\u001b[39m\u001b[38;5;124mFileSize\u001b[39m\u001b[38;5;124m'\u001b[39m: []}\n\u001b[1;32m---> 14\u001b[0m     \u001b[38;5;28;01mfor\u001b[39;00m filename \u001b[38;5;129;01min\u001b[39;00m \u001b[43mos\u001b[49m\u001b[38;5;241;43m.\u001b[39;49m\u001b[43mlistdir\u001b[49m\u001b[43m(\u001b[49m\u001b[43mimage_folder\u001b[49m\u001b[43m)\u001b[49m:\n\u001b[0;32m     15\u001b[0m         \u001b[38;5;28;01mif\u001b[39;00m filename\u001b[38;5;241m.\u001b[39mendswith((\u001b[38;5;124m'\u001b[39m\u001b[38;5;124m.png\u001b[39m\u001b[38;5;124m'\u001b[39m, \u001b[38;5;124m'\u001b[39m\u001b[38;5;124m.jpg\u001b[39m\u001b[38;5;124m'\u001b[39m, \u001b[38;5;124m'\u001b[39m\u001b[38;5;124m.jpeg\u001b[39m\u001b[38;5;124m'\u001b[39m)):\n\u001b[0;32m     16\u001b[0m             image_path \u001b[38;5;241m=\u001b[39m os\u001b[38;5;241m.\u001b[39mpath\u001b[38;5;241m.\u001b[39mjoin(image_folder, filename)\n",
      "\u001b[1;31mOSError\u001b[0m: [WinError 123] Синтаксическая ошибка в имени файла, имени папки или метке тома: '\"D:\\\\Learning\\\\Інтелектуальний аналіз даних\\\\Data_Science\\\\DataSet\\\\archive\\\\train\\\\iris\"'"
     ]
    }
   ],
   "source": [
    "import os\n",
    "import pandas as pd\n",
    "import numpy as np\n",
    "import matplotlib.pyplot as plt\n",
    "from sklearn.model_selection import train_test_split\n",
    "from sklearn.linear_model import LinearRegression\n",
    "from sklearn.metrics import mean_squared_error, mean_absolute_error, r2_score\n",
    "from PIL import Image\n",
    "\n",
    "# Функція для отримання розмірів і ваги зображення\n",
    "def get_image_data(image_folder):\n",
    "    data = {'Width': [], 'Height': [], 'FileSize': []}\n",
    "    \n",
    "    for filename in os.listdir(image_folder):\n",
    "        if filename.endswith(('.png', '.jpg', '.jpeg')):\n",
    "            image_path = os.path.join(image_folder, filename)\n",
    "            \n",
    "            # Отримуємо розміри зображення\n",
    "            img = Image.open(image_path)\n",
    "            width, height = img.size\n",
    "            data['Width'].append(width)\n",
    "            data['Height'].append(height)\n",
    "            \n",
    "            # Отримуємо вагу файлу\n",
    "            filesize = os.path.getsize(image_path)\n",
    "            data['FileSize'].append(filesize)\n",
    "    \n",
    "    return pd.DataFrame(data)\n",
    "\n",
    "# Створюємо набір даних для зображень\n",
    "image_folder = r'D:\\Learning\\Інтелектуальний аналіз даних\\Data_Science\\DataSet\\archive\\train\\iris'  \n",
    "df = get_image_data(image_folder)\n",
    "\n",
    "# Виводимо перші кілька рядків датасету\n",
    "print(df.head())\n",
    "\n",
    "# Розділяємо дані на незалежні змінні (X) та залежну змінну (y)\n",
    "X = df[['Width', 'Height']]  # Розміри зображень як ознаки\n",
    "y = df['FileSize']  # Вага зображень як цільова змінна\n",
    "\n",
    "# Розділяємо дані на тренувальну та тестову вибірки\n",
    "X_train, X_test, y_train, y_test = train_test_split(X, y, test_size=0.2, random_state=42)\n",
    "\n",
    "# Створюємо модель лінійної регресії\n",
    "model = LinearRegression()\n",
    "\n",
    "# Навчаємо модель\n",
    "model.fit(X_train, y_train)\n",
    "\n",
    "# Робимо передбачення\n",
    "y_pred = model.predict(X_test)\n",
    "\n",
    "# Оцінюємо модель за допомогою метрик\n",
    "mse = mean_squared_error(y_test, y_pred)\n",
    "mae = mean_absolute_error(y_test, y_pred)\n",
    "r2 = r2_score(y_test, y_pred)\n",
    "\n",
    "print(f\"Середньоквадратична похибка (MSE): {mse}\")\n",
    "print(f\"Середня абсолютна похибка (MAE): {mae}\")\n",
    "print(f\"Коефіцієнт детермінації (R^2): {r2}\")\n",
    "\n",
    "# Візуалізація результатів\n",
    "plt.scatter(y_test, y_pred, color='blue')\n",
    "plt.plot([y_test.min(), y_test.max()], [y_test.min(), y_test.max()], color='red', linewidth=2)\n",
    "plt.xlabel('Фактичний розмір файлу')\n",
    "plt.ylabel('Передбачений розмір файлу')\n",
    "plt.title('Лінійна регресія для передбачення ваги файлів зображень')\n",
    "plt.show()\n"
   ]
  }
 ],
 "metadata": {
  "kernelspec": {
   "display_name": ".venv",
   "language": "python",
   "name": "python3"
  },
  "language_info": {
   "codemirror_mode": {
    "name": "ipython",
    "version": 3
   },
   "file_extension": ".py",
   "mimetype": "text/x-python",
   "name": "python",
   "nbconvert_exporter": "python",
   "pygments_lexer": "ipython3",
   "version": "3.11.9"
  }
 },
 "nbformat": 4,
 "nbformat_minor": 2
}
