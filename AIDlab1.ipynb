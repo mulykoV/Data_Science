{
 "cells": [
  {
   "cell_type": "code",
   "execution_count": 1,
   "metadata": {},
   "outputs": [
    {
     "name": "stdout",
     "output_type": "stream",
     "text": [
      "Hello, Vladik!\n"
     ]
    }
   ],
   "source": [
    "name = input(\"What is your name? \")\n",
    "print(f\"Hello, {name}!\")"
   ]
  },
  {
   "cell_type": "code",
   "execution_count": 2,
   "metadata": {},
   "outputs": [
    {
     "name": "stdout",
     "output_type": "stream",
     "text": [
      "Масив випадкових чисел: [0.18239077 0.49914239 0.58965195 0.3584893  0.24802572 0.10647817\n",
      " 0.3083174  0.03401697 0.98500127 0.39427125]\n",
      "Середнє значення масиву: 0.37057851946000253\n"
     ]
    }
   ],
   "source": [
    "import numpy as np\n",
    "\n",
    "# Створення масиву з 10 випадкових чисел\n",
    "random_array = np.random.rand(10)\n",
    "\n",
    "# Обчислення середнього значення масиву\n",
    "mean_value = np.mean(random_array)\n",
    "\n",
    "print(\"Масив випадкових чисел:\", random_array)\n",
    "print(\"Середнє значення масиву:\", mean_value)\n"
   ]
  },
  {
   "cell_type": "code",
   "execution_count": null,
   "metadata": {},
   "outputs": [],
   "source": []
  }
 ],
 "metadata": {
  "kernelspec": {
   "display_name": "Python 3",
   "language": "python",
   "name": "python3"
  },
  "language_info": {
   "codemirror_mode": {
    "name": "ipython",
    "version": 3
   },
   "file_extension": ".py",
   "mimetype": "text/x-python",
   "name": "python",
   "nbconvert_exporter": "python",
   "pygments_lexer": "ipython3",
   "version": "3.11.9"
  }
 },
 "nbformat": 4,
 "nbformat_minor": 2
}
